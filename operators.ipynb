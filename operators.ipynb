{
 "cells": [
  {
   "cell_type": "code",
   "execution_count": null,
   "id": "f9841e5c-6bd3-4762-8b7f-238087c4d7d4",
   "metadata": {},
   "outputs": [],
   "source": [
    "#1. Calculate the Sum, Difference, Product, and Quotient of Two Numbers\n",
    "\n",
    "a = 10\n",
    "b = 5\n",
    "\n",
    "sum_ab = a + b\n",
    "print(\"Sum:\", sum_ab)\n",
    "\n",
    "difference_ab = a - b\n",
    "print(\"Difference:\", difference_ab)\n",
    "\n",
    "product_ab = a * b\n",
    "print(\"Product:\", product_ab)\n",
    "\n",
    "quotient_ab = a / b\n",
    "print(\"Quotient:\", quotient_ab)"
   ]
  },
  {
   "cell_type": "code",
   "execution_count": null,
   "id": "8c499824-2931-46b7-89dc-a06f5341af66",
   "metadata": {},
   "outputs": [],
   "source": [
    "#2. Perform Various Assignment Operations on a Variable\n",
    "\n",
    "x = 10\n",
    "\n",
    "# Assignment\n",
    "x = 10\n",
    "print(\"Assignment:\", x)\n",
    "\n",
    "# Add and assign\n",
    "x += 5  # Equivalent to x = x + 5\n",
    "print(\"Add and Assign:\", x)\n",
    "\n",
    "# Subtract and assign\n",
    "x -= 3  # Equivalent to x = x - 3\n",
    "print(\"Subtract and Assign:\", x)\n",
    "\n",
    "# Multiply and assign\n",
    "x *= 2  # Equivalent to x = x * 2\n",
    "print(\"Multiply and Assign:\", x)\n",
    "\n",
    "# Divide and assign\n",
    "x /= 4  # Equivalent to x = x / 4\n",
    "print(\"Divide and Assign:\", x)\n",
    "\n",
    "# Modulo and assign\n",
    "x %= 3  # Equivalent to x = x % 3\n",
    "print(\"Modulo and Assign:\", x)"
   ]
  },
  {
   "cell_type": "code",
   "execution_count": null,
   "id": "25190323-9494-4e20-8297-cdc03c31c08e",
   "metadata": {},
   "outputs": [],
   "source": [
    "#3. Compare Two Numbers and Print the Results\n",
    "a = 10\n",
    "b = 5\n",
    "print(\"a > b:\", a > b)\n",
    "print(\"a < b:\", a < b)\n",
    "print(\"a == b:\", a == b)\n",
    "print(\"a != b:\", a != b)\n",
    "print(\"a >= b:\", a >= b)\n",
    "print(\"a <= b:\", a <= b)"
   ]
  },
  {
   "cell_type": "code",
   "execution_count": null,
   "id": "c19f578c-012f-49ae-97f0-9b7818938ed6",
   "metadata": {},
   "outputs": [],
   "source": [
    "#4. Check Conditions Using Logical Operators\n",
    "\n",
    "x = True\n",
    "y = False\n",
    "\n",
    "# Logical AND\n",
    "print(\"x and y:\", x and y)\n",
    "\n",
    "# Logical OR\n",
    "print(\"x or y:\", x or y)\n",
    "\n",
    "# Logical NOT\n",
    "print(\"not x:\", not x)"
   ]
  },
  {
   "cell_type": "code",
   "execution_count": null,
   "id": "f002bd89-fb16-4cc8-9a7f-092a52a324b3",
   "metadata": {},
   "outputs": [],
   "source": []
  },
  {
   "cell_type": "code",
   "execution_count": null,
   "id": "a0176f78-199f-4b59-87a5-cca408958644",
   "metadata": {},
   "outputs": [],
   "source": []
  },
  {
   "cell_type": "code",
   "execution_count": null,
   "id": "0cb7b5c9-b017-4a7c-b0ed-f65ba04a9472",
   "metadata": {},
   "outputs": [],
   "source": []
  },
  {
   "cell_type": "code",
   "execution_count": null,
   "id": "5b83cbe0-1987-4a3e-874a-a9c0f40ea7f2",
   "metadata": {},
   "outputs": [],
   "source": []
  }
 ],
 "metadata": {
  "kernelspec": {
   "display_name": "Python 3 (ipykernel)",
   "language": "python",
   "name": "python3"
  },
  "language_info": {
   "codemirror_mode": {
    "name": "ipython",
    "version": 3
   },
   "file_extension": ".py",
   "mimetype": "text/x-python",
   "name": "python",
   "nbconvert_exporter": "python",
   "pygments_lexer": "ipython3",
   "version": "3.12.2"
  }
 },
 "nbformat": 4,
 "nbformat_minor": 5
}
